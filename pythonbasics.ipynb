{
  "nbformat": 4,
  "nbformat_minor": 0,
  "metadata": {
    "colab": {
      "provenance": []
    },
    "kernelspec": {
      "name": "python3",
      "display_name": "Python 3"
    },
    "language_info": {
      "name": "python"
    }
  },
  "cells": [
    {
      "cell_type": "markdown",
      "source": [],
      "metadata": {
        "id": "7dfPyODhfSGo"
      }
    },
    {
      "cell_type": "markdown",
      "source": [
        "#PYTHON BASICS\n"
      ],
      "metadata": {
        "id": "7q4G_yIAfT6W"
      }
    },
    {
      "cell_type": "markdown",
      "source": [
        "1. What is Python, and why is it popular?\n",
        "- ists are designed to be dynamic and flexible, allowing you to modify their contents. You can add, remove, or change items within a list after it has been created.\n",
        "Tuples, on the other hand, are designed to be static and unchangeable. Once a tuple is created, its contents cannot be altered.\n",
        "This immutability ensures that the data remains constant and can be used as keys in dictionaries or stored in sets without the risk of unintentional modification.\n",
        "This mutability makes lists ideal for situations where the data may change over time or require frequent updates.\n",
        " - Python is a high-level, interpreted programming language known for its readability, versatility, and ease of use. It was created by Guido van Rossum in 1991 and is widely used in various fields such as web development, data analysis, artificial intelligence, machine learning, automation etc.\n",
        " Python is popular because of its ease of learning and use, having a wide variety of libraries and frameworks, cross-platform compatibility and a large and active community.\n",
        "2.  What is an interpreter in Python?\n",
        "- An interpreter in Python is a program that reads, analyzes, and executes Python code line by line. It is responsible for translating the high-level Python code you write into a form the computer's hardware can execute.\n",
        "3. What are pre-defined keywords in Python?\n",
        "- Pre-defined keywords in Python are reserved words that have specific meanings and purposes in the language. Keywords cannot be used a identifiers (variable names or fucntion names) in python code. Eg print, type(), input etc\n",
        "5. What is mutability in Python?\n",
        "- Mutability in Python refers to the ability of an object to be modified after it has been created. Mutable objects are those that can be changed or modified after their creation. Examples of Mutable Objects, Lists, Dictionaries, sets\n",
        "6. Why are lists mutable, but tuples are immutable?\n",
        "7. What is the difference between “==” and “is” operators in Python?\n",
        "- In Python, both \"==\" and \"is\" are comparison operators, but they serve different purposes. The \"==\" operator checks if the values of two objects are equal.It compares the content or value of the objects, not their identities or memory locations. While as the \"is\" operator checks if two references point to the same object in memory. It compares the identity (memory location) of the objects, not their values. It checks whether both references point to the exact same object.\n",
        "8. What are logical operators in Python?\n",
        "- In Python, logical operators are used to combine conditional statements or expressions. These operators allow you to perform logical operations and return a boolean result (True or False). The three main logical operators in Python are:\n",
        "->and Operator:\n",
        "The and operator returns True if both conditions or expressions are True. If either condition is False, it returns False.\n",
        "-> or Operator:\n",
        "The or operator returns True if at least one of the conditions or expressions is True. It only returns False if both conditions are False.\n",
        "\n",
        "\n",
        "\n",
        "9. What is type casting in Python What is the difference between implicit and\n",
        "   explicit type casting?\n",
        "   - Type casting in Python refers to the process of converting a variable from one data type to another. Python provides built-in functions to explicitly cast or convert data types, allowing you to handle different types of values appropriately.\n",
        "   Implicit type casting happens automatically when Python converts a smaller data type (e.g., int) to a larger data type (e.g., float) without the programmer needing to do anything. where as, Explicit type casting involves manually converting one data type to another using Python's built-in functions.\n",
        "10. What is the purpose of conditional statements in Python?\n",
        "- The purpose of conditional statements in Python is to control the flow of a program based on certain conditions or criteria. By using conditional statements, you can instruct the program to execute specific blocks of code only when particular conditions are met.\n",
        "The main types of conditional statements in python are:\n",
        "if,\n",
        "elif(else if),\n",
        "else.\n",
        "11. How does the elif statement work?\n",
        "- Elif’ is acronym for ‘else if’ and is used in Python programming to test multiple conditions. It allows you to evaluate several conditions one after another, and if one condition is true, its associated block of code is executed. If none of the conditions are true, the else block will execute as the default.\n",
        "12. What is the difference between for and while loops?\n",
        "- The for loop automatically iterates over a sequence of values and stops when it has processed all items.\n",
        "While loop keeps running as long as the specified condition evaluates to True.\n",
        "If the condition never becomes False, the loop could run indefinitely, so it's important to ensure the condition eventually stops being true.\n",
        "13. Describe a scenario where a while loop is more suitable than a for loop\n",
        "- A while loop is more suitable than a for loop when the number of iterations is not known in advance and the loop needs to continue executing as long as a certain condition holds true. Imagine a scenario where you need to prompt a user to enter a valid password, and you want the program to keep asking for the password until the user enters the correct one. The number of attempts the user will make is unknown, so a while loop is appropriate here because you want the loop to continue running as long as the password is incorrect."
      ],
      "metadata": {
        "id": "eKfYSE3nftZS"
      }
    },
    {
      "cell_type": "code",
      "execution_count": null,
      "metadata": {
        "colab": {
          "base_uri": "https://localhost:8080/"
        },
        "id": "kZliLPVlfFK2",
        "outputId": "702d4a3d-7f04-4c35-a493-167cd4092bc1"
      },
      "outputs": [
        {
          "output_type": "stream",
          "name": "stdout",
          "text": [
            "Hello, world!\n"
          ]
        }
      ],
      "source": [
        " # 1 Write a Python program to print \"Hello, World!\"\n",
        "\n",
        "print (\"Hello, world!\")"
      ]
    },
    {
      "cell_type": "code",
      "source": [
        "# 2 Write a Python program that displays your name and age\n",
        "\n",
        "name=\"Kaleem Ullah Bhat\"\n",
        "age=\"25\"\n",
        "\n",
        "print(\"my name is\", name)\n",
        "print(\"my age is\", age)\n"
      ],
      "metadata": {
        "colab": {
          "base_uri": "https://localhost:8080/"
        },
        "id": "qwaSmIV6GmdF",
        "outputId": "e74312cb-f8ab-4d81-fd25-831ead85048a"
      },
      "execution_count": null,
      "outputs": [
        {
          "output_type": "stream",
          "name": "stdout",
          "text": [
            "my name is Kaleem Ullah Bhat\n",
            "my age is 25\n"
          ]
        }
      ]
    },
    {
      "cell_type": "code",
      "source": [
        "# 3 Write code to print all the pre-defined keywords in Python using the keyword library.\n",
        "help(\"keywords\")"
      ],
      "metadata": {
        "colab": {
          "base_uri": "https://localhost:8080/"
        },
        "id": "VeEVH5inH3vl",
        "outputId": "f757b70f-a9bd-4727-ce4f-8ab45184ad7b"
      },
      "execution_count": 19,
      "outputs": [
        {
          "output_type": "stream",
          "name": "stdout",
          "text": [
            "\n",
            "Here is a list of the Python keywords.  Enter any keyword to get more help.\n",
            "\n",
            "False               class               from                or\n",
            "None                continue            global              pass\n",
            "True                def                 if                  raise\n",
            "and                 del                 import              return\n",
            "as                  elif                in                  try\n",
            "assert              else                is                  while\n",
            "async               except              lambda              with\n",
            "await               finally             nonlocal            yield\n",
            "break               for                 not                 \n",
            "\n"
          ]
        }
      ]
    },
    {
      "cell_type": "code",
      "source": [
        "# 4 Write a program that checks if a given word is a Python keyword.\n",
        "import keyword\n",
        "\n",
        "s = \"while\"\n",
        "if s in keyword.kwlist:\n",
        "\n",
        "    print(f\"'{s}' is a Python keyword.\")\n",
        "else:\n",
        "\n",
        "    print(f\"'{s}' is not a Python keyword.\")\n"
      ],
      "metadata": {
        "id": "vBUbpYSRJ815",
        "colab": {
          "base_uri": "https://localhost:8080/"
        },
        "outputId": "967b5525-e638-4657-cc54-143a13d05c72"
      },
      "execution_count": 47,
      "outputs": [
        {
          "output_type": "stream",
          "name": "stdout",
          "text": [
            "'while' is a Python keyword.\n"
          ]
        }
      ]
    },
    {
      "cell_type": "code",
      "source": [
        "# 5 Create a list and tuple in Python, and demonstrate how attempting to change an element works differently for each\n",
        "my_list=[1,23,54,12,67,98]\n",
        "my_tuple=( 1,23,54,12,67,98)\n"
      ],
      "metadata": {
        "id": "MdsOAh9LPH0R"
      },
      "execution_count": null,
      "outputs": []
    },
    {
      "cell_type": "code",
      "source": [
        "# 6,7 Write a function to demonstrate the behavior of mutable and immutable arguments\n",
        "#mutability\n",
        "#immutability\n",
        "list_cont = [ 56,2,3.5, 3+5j,\"varun\"]\n",
        "list_cont[3]\n",
        "list_cont[3]= 2.9\n",
        "list_cont\n",
        "\n",
        "\n",
        "\n",
        "\n"
      ],
      "metadata": {
        "colab": {
          "base_uri": "https://localhost:8080/",
          "height": 36
        },
        "id": "i0clPjgRPDgx",
        "outputId": "436181e7-e6de-4312-f09a-b10788fa3295"
      },
      "execution_count": 8,
      "outputs": [
        {
          "output_type": "execute_result",
          "data": {
            "text/plain": [
              "'e'"
            ],
            "application/vnd.google.colaboratory.intrinsic+json": {
              "type": "string"
            }
          },
          "metadata": {},
          "execution_count": 8
        }
      ]
    },
    {
      "cell_type": "code",
      "source": [
        "#immutability\n",
        "a = \"wikipedia\"\n",
        "a\n"
      ],
      "metadata": {
        "colab": {
          "base_uri": "https://localhost:8080/",
          "height": 36
        },
        "id": "rkY5uTDrPspj",
        "outputId": "76c63ccd-ef98-43a8-d7fe-0ab6b841d436"
      },
      "execution_count": 13,
      "outputs": [
        {
          "output_type": "execute_result",
          "data": {
            "text/plain": [
              "'wikipedia'"
            ],
            "application/vnd.google.colaboratory.intrinsic+json": {
              "type": "string"
            }
          },
          "metadata": {},
          "execution_count": 13
        }
      ]
    },
    {
      "cell_type": "code",
      "source": [
        "\n",
        "a[5]\n"
      ],
      "metadata": {
        "colab": {
          "base_uri": "https://localhost:8080/",
          "height": 36
        },
        "id": "foDerzM-RNrI",
        "outputId": "96a30cf1-99c3-4a31-9231-c9039fba9614"
      },
      "execution_count": 15,
      "outputs": [
        {
          "output_type": "execute_result",
          "data": {
            "text/plain": [
              "'e'"
            ],
            "application/vnd.google.colaboratory.intrinsic+json": {
              "type": "string"
            }
          },
          "metadata": {},
          "execution_count": 15
        }
      ]
    },
    {
      "cell_type": "code",
      "source": [
        "a[5]=\"l\"\n",
        "a"
      ],
      "metadata": {
        "colab": {
          "base_uri": "https://localhost:8080/",
          "height": 158
        },
        "id": "3NhS85AlRYTn",
        "outputId": "7288e548-b98d-49e0-ec71-2789e33a8003"
      },
      "execution_count": 16,
      "outputs": [
        {
          "output_type": "error",
          "ename": "TypeError",
          "evalue": "'str' object does not support item assignment",
          "traceback": [
            "\u001b[0;31m---------------------------------------------------------------------------\u001b[0m",
            "\u001b[0;31mTypeError\u001b[0m                                 Traceback (most recent call last)",
            "\u001b[0;32m<ipython-input-16-c43069ea8ec2>\u001b[0m in \u001b[0;36m<cell line: 1>\u001b[0;34m()\u001b[0m\n\u001b[0;32m----> 1\u001b[0;31m \u001b[0ma\u001b[0m\u001b[0;34m[\u001b[0m\u001b[0;36m5\u001b[0m\u001b[0;34m]\u001b[0m\u001b[0;34m=\u001b[0m\u001b[0;34m\"l\"\u001b[0m\u001b[0;34m\u001b[0m\u001b[0;34m\u001b[0m\u001b[0m\n\u001b[0m\u001b[1;32m      2\u001b[0m \u001b[0ma\u001b[0m\u001b[0;34m\u001b[0m\u001b[0;34m\u001b[0m\u001b[0m\n",
            "\u001b[0;31mTypeError\u001b[0m: 'str' object does not support item assignment"
          ]
        }
      ]
    },
    {
      "cell_type": "code",
      "source": [
        "# 8 write a program to demonstrate the use of logical operators in python\n",
        "x = 5\n",
        "y = 10\n",
        "if x > 0 and y > 0:\n",
        "    print(\"Both x and y are positive.\")\n",
        "x = 5\n",
        "y = -10\n",
        "if x > 0 or y > 0:\n",
        "    print(\"At least one of x or y is positive.\")\n",
        "\n",
        "x = True\n",
        "if not x:\n",
        "    print(\"x is false.\")\n",
        "else:\n",
        "    print(\"x is true.\")"
      ],
      "metadata": {
        "colab": {
          "base_uri": "https://localhost:8080/"
        },
        "id": "U9hOO0P1khtU",
        "outputId": "144acd31-d15b-4532-d768-bb4252aa34b0"
      },
      "execution_count": 51,
      "outputs": [
        {
          "output_type": "stream",
          "name": "stdout",
          "text": [
            "Both x and y are positive.\n",
            "At least one of x or y is positive.\n",
            "x is true.\n"
          ]
        }
      ]
    },
    {
      "cell_type": "code",
      "source": [
        "# 9 Write a Python program to convert user input from string to integer, float, and boolean types\n",
        "user_input=input(\"enter a number\")\n",
        "integer= int(user_input)\n",
        "num= float(user_input)\n",
        "boolean= bool(user_input)\n",
        "print(integer)\n",
        "print(num)\n",
        "print(boolean)"
      ],
      "metadata": {
        "colab": {
          "base_uri": "https://localhost:8080/"
        },
        "id": "iJnOeKwzqdl4",
        "outputId": "6278ee12-91d0-4987-9084-e0423f770cec"
      },
      "execution_count": 55,
      "outputs": [
        {
          "output_type": "stream",
          "name": "stdout",
          "text": [
            "enter a number57\n",
            "57\n",
            "57.0\n",
            "True\n"
          ]
        }
      ]
    },
    {
      "cell_type": "code",
      "source": [
        "#10 Write code to demonstrate type casting with list elements\n",
        "list_count=[1,2,3,4,5,\"ajay\",\"pw\",\"skills\"]\n",
        "type[5]\n"
      ],
      "metadata": {
        "colab": {
          "base_uri": "https://localhost:8080/"
        },
        "id": "LsCFL6aSsnNQ",
        "outputId": "1c1b5be1-e8f6-4f80-d0b3-9639189816cf"
      },
      "execution_count": 56,
      "outputs": [
        {
          "output_type": "execute_result",
          "data": {
            "text/plain": [
              "type[5]"
            ]
          },
          "metadata": {},
          "execution_count": 56
        }
      ]
    },
    {
      "cell_type": "code",
      "source": [
        "#type casting\n",
        "int\n",
        "\n",
        "a=2.3\n",
        "print(type(a))\n",
        "b=int(a)\n",
        "print(b)\n",
        "print(type(b))"
      ],
      "metadata": {
        "colab": {
          "base_uri": "https://localhost:8080/"
        },
        "id": "jQQZ6T7cyn_N",
        "outputId": "581a8c92-d83e-4be5-d040-398d21e9abbf"
      },
      "execution_count": 58,
      "outputs": [
        {
          "output_type": "stream",
          "name": "stdout",
          "text": [
            "<class 'float'>\n",
            "2\n",
            "<class 'int'>\n"
          ]
        }
      ]
    },
    {
      "cell_type": "code",
      "source": [],
      "metadata": {
        "id": "qszx20uAyiwn"
      },
      "execution_count": null,
      "outputs": []
    },
    {
      "cell_type": "code",
      "source": [
        "# 11 Write a program that checks if a number is positive, negative, or zero\n",
        "\n",
        "num = float(input(\"Enter a number: \"))\n",
        "if num > 0:\n",
        "   print(\"Positive number\")\n",
        "elif num == 0:\n",
        "   print(\"Zero\")\n",
        "else:\n",
        "   print(\"Negative number\")"
      ],
      "metadata": {
        "colab": {
          "base_uri": "https://localhost:8080/"
        },
        "id": "iYE4g41wsr2m",
        "outputId": "61a8da8e-6043-4e0d-84c8-9168de795093"
      },
      "execution_count": 46,
      "outputs": [
        {
          "output_type": "stream",
          "name": "stdout",
          "text": [
            "Enter a number: 21\n",
            "Positive number\n"
          ]
        }
      ]
    },
    {
      "cell_type": "code",
      "source": [
        " # 12 Write a for loop to print numbers from 1 to 10\n",
        "\n",
        " for i in range(1,11):\n",
        "  print(i)"
      ],
      "metadata": {
        "colab": {
          "base_uri": "https://localhost:8080/"
        },
        "id": "vQhOMO6lSBZg",
        "outputId": "9ae3e747-e65a-4331-d70c-f5d6f21640e5"
      },
      "execution_count": 20,
      "outputs": [
        {
          "output_type": "stream",
          "name": "stdout",
          "text": [
            "1\n",
            "2\n",
            "3\n",
            "4\n",
            "5\n",
            "6\n",
            "7\n",
            "8\n",
            "9\n",
            "10\n"
          ]
        }
      ]
    },
    {
      "cell_type": "code",
      "source": [
        "# 13 Write a Python program to find the sum of all even numbers between 1 and 50\n",
        "\n",
        "sum = 0\n",
        "for num in range(1, 51):\n",
        "\n",
        "    if num % 2 == 0:\n",
        "        sum += num\n",
        "\n",
        "\n",
        "print(\"The sum of all even numbers between 1 and 50 is:\", sum)"
      ],
      "metadata": {
        "colab": {
          "base_uri": "https://localhost:8080/"
        },
        "id": "TOBwTKYvUs9h",
        "outputId": "29eac59e-ba55-458e-9485-b883613b5efa"
      },
      "execution_count": 41,
      "outputs": [
        {
          "output_type": "stream",
          "name": "stdout",
          "text": [
            "The sum of all even numbers between 1 and 50 is: 650\n"
          ]
        }
      ]
    },
    {
      "cell_type": "code",
      "source": [
        "# 14 Write a program to reverse a string using a while loop\n",
        "\n",
        "num = 6789\n",
        "reversed_num = 0\n",
        "\n",
        "while num != 0:\n",
        "    digit = num % 10\n",
        "    reversed_num = reversed_num * 10 + digit\n",
        "    num //= 10\n",
        "\n",
        "print(\"Reversed Number: \" + str(reversed_num))"
      ],
      "metadata": {
        "colab": {
          "base_uri": "https://localhost:8080/"
        },
        "id": "uv9cISJcVTI3",
        "outputId": "c2338f19-1e93-4182-c31a-7e380c10ee4d"
      },
      "execution_count": 43,
      "outputs": [
        {
          "output_type": "stream",
          "name": "stdout",
          "text": [
            "Reversed Number: 9876\n"
          ]
        }
      ]
    },
    {
      "cell_type": "code",
      "source": [
        "# 15 Write a Python program to calculate the factorial of a number provided by the user using a while loop\n",
        "\n",
        "n = int(input(\"Enter any number: \"))\n",
        "# logic to calculate the factorial of a number\n",
        "f = 1\n",
        "while n >= 1:\n",
        "    f *= n\n",
        "    n -= 1\n",
        "# print output\n",
        "print(\"Factorial is\", f)"
      ],
      "metadata": {
        "colab": {
          "base_uri": "https://localhost:8080/"
        },
        "id": "LdloS16km9Z7",
        "outputId": "076d2f0f-17b4-4c79-83d4-e8dbde85053c"
      },
      "execution_count": 45,
      "outputs": [
        {
          "output_type": "stream",
          "name": "stdout",
          "text": [
            "Enter any number: 23\n",
            "Factorial is 25852016738884976640000\n"
          ]
        }
      ]
    }
  ]
}